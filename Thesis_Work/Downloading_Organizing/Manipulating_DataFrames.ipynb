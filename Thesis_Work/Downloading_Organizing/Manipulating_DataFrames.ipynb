{
 "cells": [
  {
   "cell_type": "markdown",
   "metadata": {},
   "source": [
    "<span style=\"font-family: 'Times New Roman';color: black; font-size: 20px;\">\n",
    "<b><center> Manipulating and Managing Data Frames </center></b>\n",
    "</span>"
   ]
  },
  {
   "cell_type": "markdown",
   "metadata": {},
   "source": [
    "<span style=\"font-family: 'Times New Roman';color: black; font-size: 18px;\">\n",
    "<b><center> Materials Needed </center></b>\n",
    "</span>\n",
    "\n",
    "<center>\n",
    "\n",
    "|  |  |\n",
    "|:---------|:---------|\n",
    "| *Data Frame*  | https://docs.google.com/spreadsheets/d/1YRQI0DYoLXWgkuVO7CeK_jNVR66rzN-p/edit?gid=227007903#gid=227007903  |\n",
    "|  *Library*   |  pandas   |\n",
    "|  *Prerequesites*   |  Coding Platform; Virtual Environment  |\n",
    "\n",
    "</center>"
   ]
  },
  {
   "cell_type": "markdown",
   "metadata": {},
   "source": [
    "<span style=\"font-family: 'Times New Roman';color: black; font-size: 18px;\">\n",
    "<b><center> Goals </center></b>\n",
    "</span>\n",
    "\n",
    "<span style=\"font-family: 'Times New Roman';color: black; font-size: 16px;\">\n",
    "This section will detail how to read a data frame, understand the relevant information, import the data frame into a python environment, convert the data frame into relevant files types, and isolate relevant parts of the data frame for further analysis. \n",
    "</span>\n",
    "<br><br>"
   ]
  },
  {
   "cell_type": "markdown",
   "metadata": {},
   "source": [
    "<span style=\"font-family: 'Times New Roman';color: black; font-size: 18px;\">\n",
    "<b><center> Understanding the Data Frame </center></b>\n",
    "</span>\n",
    "\n",
    "<span style=\"font-family: 'Times New Roman';color: black; font-size: 16px;\">\n",
    "Before even opening a data frame, it is critical to have a clear understanding of the type of data that one wants to analyze. Discerning which parameter/parameters that will be used in further analysis is an important step in not under interpreting your data set in file form, but helps to inform what steps need to be taken in order to consolidate and organize the data within excel so a program can read and interpret the correct information. \n",
    "<br><br>\n",
    "For the purposes of this section, we will be focusing on the parameters within the data frame (found above in “Materials Needed to Complete”) that indicate recorded by the collection device (in this case, it is an EXO2 Water Sonde). The parameters of interest are listed in the data frame as follows:\n",
    "\n",
    "**<center> EXO Temperature (N) </center>**\n",
    "**<center>EXO Sp Cond (O)</center>**\n",
    "**<center>EXO pH (P)</center>**\n",
    "**<center>EXO ODOSat (Q)</center>**\n",
    "**<center>EXO ODO (R) </center>**\n",
    "\n",
    "It is easy to observe there are a variety of additional columns to the right and left of the column of interest. An elementary isolation method would entail deleting the columns of irrelevant information such that the final sheet contains only relevant data. However, utilizing Python to isolate columns and rows is a more effective method; this method will be used further on. For now, understanding the relevant data is the most important step.\n",
    "</span>"
   ]
  },
  {
   "cell_type": "markdown",
   "metadata": {},
   "source": [
    "<span style=\"font-family: 'Times New Roman';color: black; font-size: 18px;\">\n",
    "<b><center> Downloading the Data Frame </center></b>\n",
    "</span>\n",
    "\n",
    "<span style=\"font-family: 'Times New Roman';color: black; font-size: 16px;\">\n",
    "Before downloading the data frame onto a device, it is important to ensure that the data frame will have a “target location.” This target location is a location on a device where it can be accessed as a downloaded file but also read in the Python virtual environment. Just because the file is downloaded onto the device that will be used for analysis does not mean it has been imported into the target location. Creating a target location is simple, but requires a little organization. Before starting any project, a repository can be made that contains all data frames, code, and additional information that will be relevant for a given project. The repository can be created in the form of a “folder” on the device being used for analysis and can contain subfolders for additional organization. \n",
    "<br><br>\n",
    "Creating a larger “Project Repository” allows for easy access to all relevant materials that are needed for the project. This single repository can be opened in the coding environment and all of the information within that repository (subfolders) will be imported. The repository (or a subfolder for organizational purposes) is the target location for the data frame. After downloading the data frame, maneuvering the file into a subfolder within the Project Repository allows for access to all of the data when completing analysis.\n",
    "</span>"
   ]
  },
  {
   "cell_type": "markdown",
   "metadata": {},
   "source": [
    "<span style=\"font-family: 'Times New Roman';color: black; font-size: 18px;\">\n",
    "<b><center> Altering the Data Frame </center></b>\n",
    "</span>\n",
    "<br><br>\n",
    "<span style=\"font-family: 'Times New Roman';color: black; font-size: 16px;\">\n",
    "<u><center> Visualizing the Data Frame in Python <center></u>\n",
    "</span>\n",
    "\n",
    "<span style=\"font-family: 'Times New Roman';color: black; font-size: 16px;\">\n",
    "Before deciding how to manipulate a data frame, it is important to first visualize it in Python. Sometimes, Python alters the layout of a dataframe, so it is always good to double check that all of the information needed is present. This also gives insight into potential null columns where data cannot be manipulated or accessed. The code to visualize the “head” of a data frame (or the first 5 rows) is as follows:\n",
    "</span>\n",
    "\n"
   ]
  },
  {
   "cell_type": "markdown",
   "metadata": {},
   "source": [
    "<pre style=\"background-color: #B6D0E2; color: black; font-size: 12px; padding: 10px;\">\n",
    "import pandas as pd\n",
    "\n",
    "df = pd.read_excel( \"/Users/miaaaronson/Desktop/VS Code Repositories/Thesis_Work/Data/Downloading_and_Organizing.xlsx\")\n",
    "\n",
    "df.head(10)\n",
    "</pre>"
   ]
  },
  {
   "cell_type": "markdown",
   "metadata": {},
   "source": [
    "\n",
    "def example_function():\n",
    "    print(\"Hello, world!\")\n",
    "</pre>"
   ]
  }
 ],
 "metadata": {
  "kernelspec": {
   "display_name": "venv",
   "language": "python",
   "name": "python3"
  },
  "language_info": {
   "codemirror_mode": {
    "name": "ipython",
    "version": 3
   },
   "file_extension": ".py",
   "mimetype": "text/x-python",
   "name": "python",
   "nbconvert_exporter": "python",
   "pygments_lexer": "ipython3",
   "version": "3.12.4"
  }
 },
 "nbformat": 4,
 "nbformat_minor": 2
}
